{
 "cells": [
  {
   "cell_type": "code",
   "execution_count": 1,
   "metadata": {},
   "outputs": [
    {
     "ename": "ModuleNotFoundError",
     "evalue": "No module named 'selenium'",
     "output_type": "error",
     "traceback": [
      "\u001b[1;31m---------------------------------------------------------------------------\u001b[0m",
      "\u001b[1;31mModuleNotFoundError\u001b[0m                       Traceback (most recent call last)",
      "\u001b[1;32m<ipython-input-1-316b15f673f1>\u001b[0m in \u001b[0;36m<module>\u001b[1;34m\u001b[0m\n\u001b[0;32m      1\u001b[0m \u001b[1;32mfrom\u001b[0m \u001b[0mtime\u001b[0m \u001b[1;32mimport\u001b[0m \u001b[0msleep\u001b[0m\u001b[1;33m\u001b[0m\u001b[1;33m\u001b[0m\u001b[0m\n\u001b[1;32m----> 2\u001b[1;33m \u001b[1;32mfrom\u001b[0m \u001b[0mselenium\u001b[0m \u001b[1;32mimport\u001b[0m \u001b[0mwebdriver\u001b[0m\u001b[1;33m\u001b[0m\u001b[1;33m\u001b[0m\u001b[0m\n\u001b[0m\u001b[0;32m      3\u001b[0m \u001b[1;32mfrom\u001b[0m \u001b[0mselenium\u001b[0m\u001b[1;33m.\u001b[0m\u001b[0mwebdriver\u001b[0m\u001b[1;33m.\u001b[0m\u001b[0mchrome\u001b[0m\u001b[1;33m.\u001b[0m\u001b[0moptions\u001b[0m \u001b[1;32mimport\u001b[0m \u001b[0mOptions\u001b[0m\u001b[1;33m\u001b[0m\u001b[1;33m\u001b[0m\u001b[0m\n\u001b[0;32m      4\u001b[0m \u001b[1;32mfrom\u001b[0m \u001b[0mwebdriver_manager\u001b[0m\u001b[1;33m.\u001b[0m\u001b[0mchrome\u001b[0m \u001b[1;32mimport\u001b[0m \u001b[0mChromeDriverManager\u001b[0m\u001b[1;33m\u001b[0m\u001b[1;33m\u001b[0m\u001b[0m\n\u001b[0;32m      5\u001b[0m \u001b[1;32mfrom\u001b[0m \u001b[0mbs4\u001b[0m \u001b[1;32mimport\u001b[0m \u001b[0mBeautifulSoup\u001b[0m\u001b[1;33m\u001b[0m\u001b[1;33m\u001b[0m\u001b[0m\n",
      "\u001b[1;31mModuleNotFoundError\u001b[0m: No module named 'selenium'"
     ]
    }
   ],
   "source": [
    "from time import sleep\n",
    "from selenium import webdriver\n",
    "from selenium.webdriver.chrome.options import Options\n",
    "from webdriver_manager.chrome import ChromeDriverManager\n",
    "from bs4 import BeautifulSoup\n",
    "import pandas as pd \n",
    "\n",
    "#generar el dataframe\n",
    "df = pd.read_csv(\"https://covid19.who.int/WHO-COVID-19-global-table-data.csv\")\n",
    "\n",
    "df = df.drop(['WHO Region', 'Cases - cumulative total per 100000 population',\n",
    "              'Cases - newly reported in last 7 days per 100000 population',\n",
    "              'Deaths - cumulative total per 100000 population',\n",
    "              'Deaths - newly reported in last 7 days','Deaths - newly reported in last 7 days per 100000 population',\n",
    "              'Transmission Classification'], axis=1)\n",
    "\n",
    "df = df.set_index('Name')\n",
    "\n",
    "#que va hacer el dataframe\n",
    "\n",
    "df['Recovered']=df['Cases - cumulative total']-df['Deaths - cumulative total']\n",
    "\n",
    "df = df.drop(['Cases - cumulative total', 'Deaths - newly reported in last 24 hours'], axis = 1)\n",
    "\n",
    "inp = input(\"Enter Country: \")\n",
    "df.loc[[inp]]\n",
    "\n",
    "import matplotlib.pyplot as plt\n",
    "\n",
    "recovered = df.at[inp, 'Recovered']\n",
    "Deaths = df.at[inp,'Deaths - cumulative total']\n",
    "new_Cases24 = df.at[inp, 'Cases - newly reported in last 24 hours'] \n",
    "new_Cases7 = df.at[inp, 'Cases - newly reported in last 7 days']\n",
    "f = plt.figure(figsize=(8,8))\n",
    "font = {\n",
    "    'family': 'normal',\n",
    "    'weight':'bold',\n",
    "    'size':12\n",
    "}\n",
    "\n",
    "plt.rc('font',**font)\n",
    "plt.rcParams.update({'text.color':\"black\",'axes.labelcolor':\"black\"})\n",
    "plt.pie([recovered, Deaths,new_Cases24,new_Cases7], labels=['Recovered','Deaths','New Cases /24hr','New Cases /7days'], colors = ['lightgreen','red','pink','orange'], \n",
    "    explode=(0.2,0.3,0.2,0.1), strangle = 180, autopct = '%1.1f%%')\n",
    "\n",
    "#displaying the plot\n",
    "\n",
    "plt.title(inp)\n",
    "plt.legend()\n",
    "plt.show()"
   ]
  },
  {
   "cell_type": "code",
   "execution_count": null,
   "metadata": {},
   "outputs": [],
   "source": []
  }
 ],
 "metadata": {
  "kernelspec": {
   "display_name": "Python 3",
   "language": "python",
   "name": "python3"
  },
  "language_info": {
   "codemirror_mode": {
    "name": "ipython",
    "version": 3
   },
   "file_extension": ".py",
   "mimetype": "text/x-python",
   "name": "python",
   "nbconvert_exporter": "python",
   "pygments_lexer": "ipython3",
   "version": "3.8.5"
  }
 },
 "nbformat": 4,
 "nbformat_minor": 4
}
